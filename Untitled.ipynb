{
 "cells": [
  {
   "cell_type": "code",
   "execution_count": 5,
   "metadata": {},
   "outputs": [
    {
     "name": "stdout",
     "output_type": "stream",
     "text": [
      "jhi\n"
     ]
    }
   ],
   "source": [
    "for i in range(len([1])):\n",
    "    print ('jhi')"
   ]
  },
  {
   "cell_type": "code",
   "execution_count": 11,
   "metadata": {},
   "outputs": [
    {
     "data": {
      "text/plain": [
       "3"
      ]
     },
     "execution_count": 11,
     "metadata": {},
     "output_type": "execute_result"
    }
   ],
   "source": [
    "max(0,max([1,2,3]))"
   ]
  },
  {
   "cell_type": "code",
   "execution_count": 2,
   "metadata": {},
   "outputs": [
    {
     "data": {
      "text/plain": [
       "1.0986122886681098"
      ]
     },
     "execution_count": 2,
     "metadata": {},
     "output_type": "execute_result"
    }
   ],
   "source": [
    "import math\n",
    "math.log(3)"
   ]
  },
  {
   "cell_type": "code",
   "execution_count": 3,
   "metadata": {},
   "outputs": [
    {
     "data": {
      "text/plain": [
       "-inf"
      ]
     },
     "execution_count": 3,
     "metadata": {},
     "output_type": "execute_result"
    }
   ],
   "source": [
    "float('-inf')"
   ]
  },
  {
   "cell_type": "code",
   "execution_count": 62,
   "metadata": {
    "collapsed": true
   },
   "outputs": [],
   "source": [
    "class Solution:\n",
    "    @classmethod\n",
    "    def maxProfit(self, prices):\n",
    "        \"\"\"\n",
    "        :type prices: List[int]\n",
    "        :rtype: int\n",
    "        \"\"\"\n",
    "        # greedy\n",
    "        if len(prices)<2:\n",
    "            return 0\n",
    "        # base case\n",
    "        buy_price = prices[0]\n",
    "        sell_price = prices[1]\n",
    "        min_price = min(buy_price,sell_price)\n",
    "        max_profit = max(0,sell_price -buy_price)    \n",
    "        \n",
    "        for price in prices[2:]:\n",
    "            # case 1\n",
    "            if price >= sell_price:\n",
    "                sell_price = price\n",
    "                max_profit = max(max_profit,(sell_price-buy_price)) \n",
    "            # case 2\n",
    "            if (price - min_price) > max_profit:\n",
    "                max_profit = price - min_price\n",
    "                sell_price = price\n",
    "                buy_price = min_price\n",
    "            min_price = min(min_price,price)\n",
    "            \n",
    "#             print(\" current price {} buy price {} min price {} sell_price {} max profit {} \".format(price,buy_price,min_price,sell_price,max_profit))\n",
    "        \n",
    "        return max_profit\n",
    "        \n",
    "        "
   ]
  },
  {
   "cell_type": "code",
   "execution_count": 63,
   "metadata": {},
   "outputs": [
    {
     "data": {
      "text/plain": [
       "3"
      ]
     },
     "execution_count": 63,
     "metadata": {},
     "output_type": "execute_result"
    }
   ],
   "source": [
    "Solution.maxProfit([2,1,4])"
   ]
  },
  {
   "cell_type": "code",
   "execution_count": 72,
   "metadata": {},
   "outputs": [
    {
     "data": {
      "text/plain": [
       "0.1823215567939546"
      ]
     },
     "execution_count": 72,
     "metadata": {},
     "output_type": "execute_result"
    }
   ],
   "source": [
    "math.log(1.2)"
   ]
  },
  {
   "cell_type": "code",
   "execution_count": 124,
   "metadata": {},
   "outputs": [],
   "source": [
    "def drawdown_calc(returns, n):\n",
    "    neg_log_return =list(map(lambda val: math.log(val+1),returns))\n",
    "    draw_down_list =[]\n",
    "    my_array =neg_log_return.copy()\n",
    "#     print(my_array)\n",
    "    draw_down_list=all_min_sum(my_array,len(my_array),draw_down_list)\n",
    "#     print(draw_down_list)\n",
    "    if n>len(draw_down_list):\n",
    "#         print(\"hi\")\n",
    "        return len(draw_down_list)\n",
    "    else:\n",
    "        return math.exp(draw_down_list[n-1])-1\n",
    "\n",
    "\n",
    "\n",
    "def all_min_sum(a,size,store_array):\n",
    "    #base case\n",
    "    if size==1 and a[0] < 0:\n",
    "        store_array.append(a[0])\n",
    "    elif size>=2:\n",
    "        ans = min_sum(a,size)\n",
    "#         print(ans)\n",
    "        if ans['sum']<0:\n",
    "            store_array.append(ans['sum'])\n",
    "            left_array = a[0:ans['start']-1]\n",
    "            right_array = a[ans['end']+1:size]\n",
    "            store_array=all_max_sum(left_array,len(left_array),store_array)\n",
    "            store_array=all_max_sum(right_array,len(right_array),store_array)\n",
    "        \n",
    "    return store_array\n",
    "    \n",
    "    \n",
    "    \n",
    "def min_sum(a,size):\n",
    "    if size <=0:\n",
    "        raise ValueError(\"size less than 0\")\n",
    "    min_sum_end = []\n",
    "    min_sum_end.append(a[0])\n",
    "    for i in range(1,size):\n",
    "        if min_sum_end[i-1]<0:\n",
    "            min_sum_end.append(a[i]+min_sum_end[i-1])\n",
    "        else:\n",
    "            min_sum_end.append(a[i])\n",
    "            \n",
    "    min_sum = min(min_sum_end)        \n",
    "    end_index = min_sum_end.index(min_sum)\n",
    "    start_index=end_index-1\n",
    "    while(min_sum_end[start_index]<0 and start_index>=0):\n",
    "        start_index = start_index-1\n",
    "    start_index=start_index+1\n",
    "    \n",
    "    return ({\"sum\":min_sum,\"start\":start_index,\"end\":end_index})\n",
    "            "
   ]
  },
  {
   "cell_type": "code",
   "execution_count": 96,
   "metadata": {},
   "outputs": [],
   "source": [
    "test_1=[0.01,\n",
    "0.01,\n",
    "0.01,\n",
    "-0.01,\n",
    "0.01,\n",
    "0.01]\n"
   ]
  },
  {
   "cell_type": "code",
   "execution_count": 118,
   "metadata": {},
   "outputs": [
    {
     "data": {
      "text/plain": [
       "{'end': 3, 'start': 3, 'sum': -0.01}"
      ]
     },
     "execution_count": 118,
     "metadata": {},
     "output_type": "execute_result"
    }
   ],
   "source": [
    "min_sum(test_1,len(test_1))"
   ]
  },
  {
   "cell_type": "code",
   "execution_count": 119,
   "metadata": {
    "collapsed": true
   },
   "outputs": [],
   "source": [
    "a=[0.009950330853168092, 0.009950330853168092, 0.009950330853168092, -0.01005033585350145, 0.009950330853168092, 0.009950330853168092]"
   ]
  },
  {
   "cell_type": "code",
   "execution_count": 120,
   "metadata": {},
   "outputs": [
    {
     "data": {
      "text/plain": [
       "{'end': 3, 'start': 3, 'sum': -0.01005033585350145}"
      ]
     },
     "execution_count": 120,
     "metadata": {},
     "output_type": "execute_result"
    }
   ],
   "source": [
    "min_sum(a,len(a))"
   ]
  },
  {
   "cell_type": "code",
   "execution_count": 121,
   "metadata": {},
   "outputs": [
    {
     "name": "stdout",
     "output_type": "stream",
     "text": [
      "{'sum': -0.01005033585350145, 'start': 3, 'end': 3}\n"
     ]
    },
    {
     "data": {
      "text/plain": [
       "[-0.01005033585350145,\n",
       " 0.019900661706336184,\n",
       " 0.009950330853168092,\n",
       " 0.019900661706336184,\n",
       " 0.009950330853168092]"
      ]
     },
     "execution_count": 121,
     "metadata": {},
     "output_type": "execute_result"
    }
   ],
   "source": [
    "s=[]\n",
    "all_min_sum(a,len(a),s)"
   ]
  },
  {
   "cell_type": "code",
   "execution_count": 122,
   "metadata": {
    "collapsed": true
   },
   "outputs": [],
   "source": [
    "import math \n",
    "import sys"
   ]
  },
  {
   "cell_type": "code",
   "execution_count": 125,
   "metadata": {},
   "outputs": [
    {
     "name": "stdout",
     "output_type": "stream",
     "text": [
      "[0.009950330853168092, 0.009950330853168092, 0.009950330853168092, -0.01005033585350145, 0.009950330853168092, 0.009950330853168092]\n",
      "{'sum': -0.01005033585350145, 'start': 3, 'end': 3}\n",
      "[-0.01005033585350145, 0.019900661706336184, 0.009950330853168092, 0.019900661706336184, 0.009950330853168092]\n"
     ]
    },
    {
     "data": {
      "text/plain": [
       "-0.010000000000000009"
      ]
     },
     "execution_count": 125,
     "metadata": {},
     "output_type": "execute_result"
    }
   ],
   "source": [
    "drawdown_calc(test_1,1)"
   ]
  }
 ],
 "metadata": {
  "kernelspec": {
   "display_name": "Python 3",
   "language": "python",
   "name": "python3"
  },
  "language_info": {
   "codemirror_mode": {
    "name": "ipython",
    "version": 3
   },
   "file_extension": ".py",
   "mimetype": "text/x-python",
   "name": "python",
   "nbconvert_exporter": "python",
   "pygments_lexer": "ipython3",
   "version": "3.6.1"
  }
 },
 "nbformat": 4,
 "nbformat_minor": 2
}
