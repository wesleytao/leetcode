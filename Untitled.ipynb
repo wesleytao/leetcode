{
 "cells": [
  {
   "cell_type": "code",
   "execution_count": 5,
   "metadata": {},
   "outputs": [
    {
     "name": "stdout",
     "output_type": "stream",
     "text": [
      "jhi\n"
     ]
    }
   ],
   "source": [
    "for i in range(len([1])):\n",
    "    print ('jhi')"
   ]
  },
  {
   "cell_type": "code",
   "execution_count": 11,
   "metadata": {},
   "outputs": [
    {
     "data": {
      "text/plain": [
       "3"
      ]
     },
     "execution_count": 11,
     "metadata": {},
     "output_type": "execute_result"
    }
   ],
   "source": [
    "max(0,max([1,2,3]))"
   ]
  },
  {
   "cell_type": "code",
   "execution_count": 2,
   "metadata": {},
   "outputs": [
    {
     "data": {
      "text/plain": [
       "1.0986122886681098"
      ]
     },
     "execution_count": 2,
     "metadata": {},
     "output_type": "execute_result"
    }
   ],
   "source": [
    "import math\n",
    "math.log(3)"
   ]
  },
  {
   "cell_type": "code",
   "execution_count": 3,
   "metadata": {},
   "outputs": [
    {
     "data": {
      "text/plain": [
       "-inf"
      ]
     },
     "execution_count": 3,
     "metadata": {},
     "output_type": "execute_result"
    }
   ],
   "source": [
    "float('-inf')"
   ]
  },
  {
   "cell_type": "code",
   "execution_count": 62,
   "metadata": {
    "collapsed": true
   },
   "outputs": [],
   "source": [
    "class Solution:\n",
    "    @classmethod\n",
    "    def maxProfit(self, prices):\n",
    "        \"\"\"\n",
    "        :type prices: List[int]\n",
    "        :rtype: int\n",
    "        \"\"\"\n",
    "        # greedy\n",
    "        if len(prices)<2:\n",
    "            return 0\n",
    "        # base case\n",
    "        buy_price = prices[0]\n",
    "        sell_price = prices[1]\n",
    "        min_price = min(buy_price,sell_price)\n",
    "        max_profit = max(0,sell_price -buy_price)    \n",
    "        \n",
    "        for price in prices[2:]:\n",
    "            # case 1\n",
    "            if price >= sell_price:\n",
    "                sell_price = price\n",
    "                max_profit = max(max_profit,(sell_price-buy_price)) \n",
    "            # case 2\n",
    "            if (price - min_price) > max_profit:\n",
    "                max_profit = price - min_price\n",
    "                sell_price = price\n",
    "                buy_price = min_price\n",
    "            min_price = min(min_price,price)\n",
    "            \n",
    "#             print(\" current price {} buy price {} min price {} sell_price {} max profit {} \".format(price,buy_price,min_price,sell_price,max_profit))\n",
    "        \n",
    "        return max_profit\n",
    "        \n",
    "        "
   ]
  },
  {
   "cell_type": "code",
   "execution_count": 63,
   "metadata": {},
   "outputs": [
    {
     "data": {
      "text/plain": [
       "3"
      ]
     },
     "execution_count": 63,
     "metadata": {},
     "output_type": "execute_result"
    }
   ],
   "source": [
    "Solution.maxProfit([2,1,4])"
   ]
  }
 ],
 "metadata": {
  "kernelspec": {
   "display_name": "Python 3",
   "language": "python",
   "name": "python3"
  },
  "language_info": {
   "codemirror_mode": {
    "name": "ipython",
    "version": 3
   },
   "file_extension": ".py",
   "mimetype": "text/x-python",
   "name": "python",
   "nbconvert_exporter": "python",
   "pygments_lexer": "ipython3",
   "version": "3.6.1"
  }
 },
 "nbformat": 4,
 "nbformat_minor": 2
}
