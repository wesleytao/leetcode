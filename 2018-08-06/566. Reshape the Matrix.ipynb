{
 "cells": [
  {
   "cell_type": "code",
   "execution_count": 8,
   "metadata": {
    "collapsed": true
   },
   "outputs": [],
   "source": [
    "class Solution:\n",
    "    @classmethod\n",
    "    def matrixReshape(self, nums, r, c):\n",
    "        \"\"\"\n",
    "        :type nums: List[List[int]]\n",
    "        :type r: int\n",
    "        :type c: int\n",
    "        :rtype: List[List[int]]\n",
    "        \"\"\"\n",
    "        p_r = len(nums)\n",
    "        p_c = len(nums[0])\n",
    "        new_nums=[]\n",
    "        if p_r * p_c != r * c:\n",
    "            new_nums=nums\n",
    "        else:\n",
    "            for i in range(r):\n",
    "                new_nums.append([])\n",
    "                for j in range(c):\n",
    "                    idx = i*c+j+1\n",
    "                    if idx % p_c ==0:\n",
    "                        x = int(idx/p_c)-1\n",
    "                        y = p_c-1\n",
    "                    else :\n",
    "                        x = int(idx/p_c)\n",
    "                        y = idx % p_c -1\n",
    "                    new_nums[i].append(nums[x][y])\n",
    "        return new_nums"
   ]
  },
  {
   "cell_type": "code",
   "execution_count": 12,
   "metadata": {},
   "outputs": [
    {
     "name": "stdout",
     "output_type": "stream",
     "text": [
      "1\n",
      "2\n",
      "3\n",
      "4\n",
      "5\n",
      "6\n"
     ]
    },
    {
     "data": {
      "text/plain": [
       "[[1, 2], [3, 2], [3, 4]]"
      ]
     },
     "execution_count": 12,
     "metadata": {},
     "output_type": "execute_result"
    }
   ],
   "source": [
    "Solution.matrixReshape([[1,2,3],[2,3,4]],3,2)"
   ]
  }
 ],
 "metadata": {
  "kernelspec": {
   "display_name": "Python 3",
   "language": "python",
   "name": "python3"
  },
  "language_info": {
   "codemirror_mode": {
    "name": "ipython",
    "version": 3
   },
   "file_extension": ".py",
   "mimetype": "text/x-python",
   "name": "python",
   "nbconvert_exporter": "python",
   "pygments_lexer": "ipython3",
   "version": "3.6.1"
  }
 },
 "nbformat": 4,
 "nbformat_minor": 2
}
