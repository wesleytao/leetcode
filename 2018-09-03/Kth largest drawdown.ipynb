{
 "cells": [
  {
   "cell_type": "code",
   "execution_count": null,
   "metadata": {
    "collapsed": true
   },
   "outputs": [],
   "source": [
    "def drawdown_calc(returns, n):\n",
    "    neg_log_return =list(map(lambda val: math.log(val+1),returns))\n",
    "    draw_down_list =[]\n",
    "    my_array =neg_log_return.copy()\n",
    "#     print(my_array)\n",
    "    draw_down_list=all_min_sum(my_array,len(my_array),draw_down_list)\n",
    "#     print(draw_down_list)\n",
    "    if n>len(draw_down_list):\n",
    "#         print(\"hi\")\n",
    "        return len(draw_down_list)\n",
    "    else:\n",
    "        return math.exp(draw_down_list[n-1])-1\n",
    "\n",
    "\n",
    "\n",
    "def all_min_sum(a,size,store_array):\n",
    "    #base case\n",
    "    if size==1 and a[0] < 0:\n",
    "        store_array.append(a[0])\n",
    "    elif size>=2:\n",
    "        ans = min_sum(a,size)\n",
    "#         print(ans)\n",
    "        if ans['sum']<0:\n",
    "            store_array.append(ans['sum'])\n",
    "            left_array = a[0:ans['start']-1]\n",
    "            right_array = a[ans['end']+1:size]\n",
    "            store_array=all_max_sum(left_array,len(left_array),store_array)\n",
    "            store_array=all_max_sum(right_array,len(right_array),store_array)\n",
    "        \n",
    "    return store_array\n",
    "    \n",
    "    \n",
    "    \n",
    "def min_sum(a,size):\n",
    "    if size <=0:\n",
    "        raise ValueError(\"size less than 0\")\n",
    "    min_sum_end = []\n",
    "    min_sum_end.append(a[0])\n",
    "    for i in range(1,size):\n",
    "        if min_sum_end[i-1]<0:\n",
    "            min_sum_end.append(a[i]+min_sum_end[i-1])\n",
    "        else:\n",
    "            min_sum_end.append(a[i])\n",
    "            \n",
    "    min_sum = min(min_sum_end)        \n",
    "    end_index = min_sum_end.index(min_sum)\n",
    "    start_index=end_index-1\n",
    "    while(min_sum_end[start_index]<0 and start_index>=0):\n",
    "        start_index = start_index-1\n",
    "    start_index=start_index+1\n",
    "    \n",
    "    return ({\"sum\":min_sum,\"start\":start_index,\"end\":end_index})\n",
    "            "
   ]
  }
 ],
 "metadata": {
  "kernelspec": {
   "display_name": "Python 3",
   "language": "python",
   "name": "python3"
  },
  "language_info": {
   "codemirror_mode": {
    "name": "ipython",
    "version": 3
   },
   "file_extension": ".py",
   "mimetype": "text/x-python",
   "name": "python",
   "nbconvert_exporter": "python",
   "pygments_lexer": "ipython3",
   "version": "3.6.1"
  }
 },
 "nbformat": 4,
 "nbformat_minor": 2
}
